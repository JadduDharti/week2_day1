{
 "cells": [
  {
   "cell_type": "markdown",
   "metadata": {},
   "source": [
    "# Week 2 - Monday Lesson (variable assignment, loops, lists)"
   ]
  },
  {
   "cell_type": "markdown",
   "metadata": {},
   "source": [
    "## Tasks Today:\n",
    "\n",
    "1) Int & Float assignments <br>\n",
    " &nbsp;&nbsp;&nbsp;&nbsp; a) Assigning int <br>\n",
    " &nbsp;&nbsp;&nbsp;&nbsp; b) Assigning float <br>\n",
    " &nbsp;&nbsp;&nbsp;&nbsp; c) Performing Calculations on ints and floats <br>\n",
    " &nbsp;&nbsp;&nbsp;&nbsp;&nbsp;&nbsp;&nbsp;&nbsp; - Addition <br>\n",
    " &nbsp;&nbsp;&nbsp;&nbsp;&nbsp;&nbsp;&nbsp;&nbsp; - Subtraction <br>\n",
    " &nbsp;&nbsp;&nbsp;&nbsp;&nbsp;&nbsp;&nbsp;&nbsp; - Multiplication <br>\n",
    " &nbsp;&nbsp;&nbsp;&nbsp;&nbsp;&nbsp;&nbsp;&nbsp; - Division <br>\n",
    " &nbsp;&nbsp;&nbsp;&nbsp;&nbsp;&nbsp;&nbsp;&nbsp; - Floor Division <br>\n",
    " &nbsp;&nbsp;&nbsp;&nbsp;&nbsp;&nbsp;&nbsp;&nbsp; - Modulo <br>\n",
    " &nbsp;&nbsp;&nbsp;&nbsp;&nbsp;&nbsp;&nbsp;&nbsp; - Exponential <br>\n",
    "2) String Input-Output <br>\n",
    " &nbsp;&nbsp;&nbsp;&nbsp; a) String Assignment <br>\n",
    " &nbsp;&nbsp;&nbsp;&nbsp; b) print() <br>\n",
    " &nbsp;&nbsp;&nbsp;&nbsp; c) String Concatenation <br>\n",
    " &nbsp;&nbsp;&nbsp;&nbsp; d) Type Conversion <br>\n",
    " &nbsp;&nbsp;&nbsp;&nbsp; e) input() <br>\n",
    " &nbsp;&nbsp;&nbsp;&nbsp; f) format() <br>\n",
    " &nbsp;&nbsp;&nbsp;&nbsp; g) Old Way (python 2) <br>\n",
    "3) <b>In-Class Exercise #1</b> <br>\n",
    "4) If Statements <br>\n",
    " &nbsp;&nbsp;&nbsp;&nbsp; a) 'is' keyword <br>\n",
    " &nbsp;&nbsp;&nbsp;&nbsp; b) 'in' keyword <br>\n",
    " &nbsp;&nbsp;&nbsp;&nbsp; c) 'not in' keyword <br>\n",
    "5) <b>In-Class Exercise #2</b> <br>\n",
    "6) Elif Statements <br>\n",
    "7) Else Statements <br>\n",
    "8) <b>In-Class Exercise #3</b> <br>\n",
    "9) Built-In Functions <br>\n",
    "\n",
    " &nbsp;&nbsp;&nbsp;&nbsp; b) len() <br>\n",
    " &nbsp;&nbsp;&nbsp;&nbsp; c) help() <br>\n",
    " &nbsp;&nbsp;&nbsp;&nbsp; d) isinstance() <br>\n",
    " &nbsp;&nbsp;&nbsp;&nbsp; e) abs() <br>\n",
    "10) Try and Except <br>\n"
   ]
  },
  {
   "cell_type": "markdown",
   "metadata": {},
   "source": [
    "### Int & Float Assignments"
   ]
  },
  {
   "cell_type": "markdown",
   "metadata": {},
   "source": [
    "##### Assigning int"
   ]
  },
  {
   "cell_type": "code",
   "execution_count": 3,
   "metadata": {},
   "outputs": [
    {
     "name": "stdout",
     "output_type": "stream",
     "text": [
      "6\n",
      "4\n",
      "7\n"
     ]
    }
   ],
   "source": [
    "number = 6\n",
    "print(number)\n",
    "x = 4\n",
    "y = 7\n",
    "print(x)\n",
    "print(y)"
   ]
  },
  {
   "cell_type": "markdown",
   "metadata": {},
   "source": [
    "##### Assigning float"
   ]
  },
  {
   "cell_type": "code",
   "execution_count": 4,
   "metadata": {},
   "outputs": [
    {
     "name": "stdout",
     "output_type": "stream",
     "text": [
      "3.5\n"
     ]
    }
   ],
   "source": [
    "num_float = 3.5\n",
    "print(num_float)"
   ]
  },
  {
   "cell_type": "markdown",
   "metadata": {},
   "source": [
    "#### Performing Calculations on ints and floats"
   ]
  },
  {
   "cell_type": "markdown",
   "metadata": {},
   "source": [
    "##### Addition"
   ]
  },
  {
   "cell_type": "code",
   "execution_count": 6,
   "metadata": {},
   "outputs": [
    {
     "name": "stdout",
     "output_type": "stream",
     "text": [
      "9\n"
     ]
    }
   ],
   "source": [
    "x = 4\n",
    "y = 5\n",
    "sum = x + y\n",
    "print(sum)"
   ]
  },
  {
   "cell_type": "markdown",
   "metadata": {},
   "source": [
    "Subtraction"
   ]
  },
  {
   "cell_type": "code",
   "execution_count": 5,
   "metadata": {},
   "outputs": [
    {
     "name": "stdout",
     "output_type": "stream",
     "text": [
      "9\n"
     ]
    }
   ],
   "source": [
    "x = 14\n",
    "y = 5\n",
    "sub = x - y\n",
    "print(sub)"
   ]
  },
  {
   "cell_type": "markdown",
   "metadata": {},
   "source": [
    "##### Multiplication"
   ]
  },
  {
   "cell_type": "code",
   "execution_count": 14,
   "metadata": {},
   "outputs": [
    {
     "name": "stdout",
     "output_type": "stream",
     "text": [
      "22.0\n",
      "44.0\n"
     ]
    }
   ],
   "source": [
    "x = 4\n",
    "y = 5.5\n",
    "mul = x * y\n",
    "print(float(mul))\n",
    "\n",
    "print(mul *2)"
   ]
  },
  {
   "cell_type": "markdown",
   "metadata": {},
   "source": [
    "##### Division"
   ]
  },
  {
   "cell_type": "code",
   "execution_count": 16,
   "metadata": {},
   "outputs": [
    {
     "name": "stdout",
     "output_type": "stream",
     "text": [
      "4.8\n",
      "2.4\n"
     ]
    }
   ],
   "source": [
    "x = 24\n",
    "y = 5\n",
    "divi = x / y\n",
    "print(divi)\n",
    "divi /= 2\n",
    "\n",
    "print(divi)\n"
   ]
  },
  {
   "cell_type": "markdown",
   "metadata": {},
   "source": [
    "##### Floor Division"
   ]
  },
  {
   "cell_type": "code",
   "execution_count": 17,
   "metadata": {},
   "outputs": [
    {
     "name": "stdout",
     "output_type": "stream",
     "text": [
      "2\n"
     ]
    }
   ],
   "source": [
    "num1 = 5\n",
    "num2 = 2\n",
    "\n",
    "floored = num1 // num2\n",
    "print(floored)"
   ]
  },
  {
   "cell_type": "code",
   "execution_count": 20,
   "metadata": {},
   "outputs": [
    {
     "name": "stdout",
     "output_type": "stream",
     "text": [
      "2.5\n"
     ]
    }
   ],
   "source": [
    "num1 = 5\n",
    "num2 = 2\n",
    "\n",
    "quotion = num1 / num2\n",
    "print(quotion)"
   ]
  },
  {
   "cell_type": "markdown",
   "metadata": {},
   "source": [
    "##### Modulo"
   ]
  },
  {
   "cell_type": "code",
   "execution_count": 22,
   "metadata": {},
   "outputs": [
    {
     "name": "stdout",
     "output_type": "stream",
     "text": [
      "even\n"
     ]
    }
   ],
   "source": [
    "num1 = 6\n",
    "if num1 % 2 == 0:\n",
    "    print(\"even\")\n",
    "else:\n",
    "        print(\"odd\")"
   ]
  },
  {
   "cell_type": "markdown",
   "metadata": {},
   "source": [
    "##### Exponential"
   ]
  },
  {
   "cell_type": "code",
   "execution_count": 25,
   "metadata": {},
   "outputs": [
    {
     "name": "stdout",
     "output_type": "stream",
     "text": [
      "25\n",
      "625\n"
     ]
    }
   ],
   "source": [
    "square = 5**2\n",
    "print(square)\n",
    "\n",
    "square**=2\n",
    "print(square)"
   ]
  },
  {
   "cell_type": "markdown",
   "metadata": {},
   "source": [
    "### String Input-Output"
   ]
  },
  {
   "cell_type": "markdown",
   "metadata": {},
   "source": [
    "##### String Assignment"
   ]
  },
  {
   "cell_type": "code",
   "execution_count": 27,
   "metadata": {},
   "outputs": [
    {
     "name": "stdout",
     "output_type": "stream",
     "text": [
      "Dharti\n",
      "chow chow\n"
     ]
    }
   ],
   "source": [
    "name = \"Dharti\"\n",
    "\n",
    "dog = \"chow chow\"\n",
    "print(name)\n",
    "print(dog)\n"
   ]
  },
  {
   "cell_type": "markdown",
   "metadata": {},
   "source": [
    "##### print() <br>\n",
    "<p>Don't forget about end=' '</p>"
   ]
  },
  {
   "cell_type": "code",
   "execution_count": 30,
   "metadata": {},
   "outputs": [
    {
     "name": "stdout",
     "output_type": "stream",
     "text": [
      "Hello Dharti\n",
      "Full name  DhartiPatel"
     ]
    }
   ],
   "source": [
    "print(\"Hello\", name)\n",
    "\n",
    "print(\"Full name \", name, end=\"Patel\")"
   ]
  },
  {
   "cell_type": "markdown",
   "metadata": {},
   "source": [
    "##### String Concatenation"
   ]
  },
  {
   "cell_type": "code",
   "execution_count": 38,
   "metadata": {},
   "outputs": [
    {
     "name": "stdout",
     "output_type": "stream",
     "text": [
      "Dharti Patel\n",
      "Dharti Patel.\n",
      "Dharti Patel. Jedi Master\n"
     ]
    }
   ],
   "source": [
    "firstname = \"Dharti\"\n",
    "lastname = \"Patel\"\n",
    "print(firstname+ \" \" + lastname)\n",
    "\n",
    "fullname = firstname+ \" \" + lastname + \".\"\n",
    "print(fullname)\n",
    "\n",
    "fullname += \" Jedi Master\"\n",
    "print(fullname)\n"
   ]
  },
  {
   "cell_type": "markdown",
   "metadata": {},
   "source": [
    "##### Type Conversion"
   ]
  },
  {
   "cell_type": "code",
   "execution_count": 39,
   "metadata": {},
   "outputs": [
    {
     "name": "stdout",
     "output_type": "stream",
     "text": [
      "<class 'int'>\n",
      "<class 'float'>\n",
      "<class 'str'>\n",
      "<class 'str'>\n"
     ]
    }
   ],
   "source": [
    "x = 12\n",
    "print(type(x))\n",
    "name = \"Dharti\"\n",
    "\n",
    "num_str = \"15\"\n",
    "\n",
    "y = 1.45\n",
    "print(type(y))\n",
    "new_x = str(x)\n",
    "new_y = str(y)\n",
    "\n",
    "print(type(new_x))\n",
    "print(type(new_y))"
   ]
  },
  {
   "cell_type": "markdown",
   "metadata": {},
   "source": [
    "##### input()"
   ]
  },
  {
   "cell_type": "code",
   "execution_count": 40,
   "metadata": {},
   "outputs": [
    {
     "name": "stdout",
     "output_type": "stream",
     "text": [
      "How old are you15\n",
      "Your age is  15\n"
     ]
    }
   ],
   "source": [
    "age = int(input(\"How old are you\"))\n",
    "\n",
    "print(\"Your age is \",age)\n",
    "\n",
    "age +=1"
   ]
  },
  {
   "cell_type": "code",
   "execution_count": 41,
   "metadata": {},
   "outputs": [
    {
     "name": "stdout",
     "output_type": "stream",
     "text": [
      "16\n"
     ]
    }
   ],
   "source": [
    "print(age)"
   ]
  },
  {
   "cell_type": "markdown",
   "metadata": {},
   "source": [
    "##### format()"
   ]
  },
  {
   "cell_type": "code",
   "execution_count": 46,
   "metadata": {},
   "outputs": [
    {
     "name": "stdout",
     "output_type": "stream",
     "text": [
      "How old are you: 15\n",
      "What is your name: vfyu\n",
      "You are 15 years old, vfyu and you are getting wiser!\n",
      "15 is a grate time in life\n"
     ]
    }
   ],
   "source": [
    "age = int(input(\"How old are you: \"))\n",
    "name = input(\"What is your name: \")\n",
    "\n",
    "result = \"You are {} years old, {} and you are getting wiser!\".format(age,name)\n",
    "print(result)\n",
    "\n",
    "result_again = f\"{age} is a grate time in life\"\n",
    "print(result_again)\n"
   ]
  },
  {
   "cell_type": "markdown",
   "metadata": {},
   "source": [
    "##### Old Way (python 2)"
   ]
  },
  {
   "cell_type": "code",
   "execution_count": 49,
   "metadata": {},
   "outputs": [
    {
     "name": "stdout",
     "output_type": "stream",
     "text": [
      "You are 15 and you look great for your age!\n"
     ]
    }
   ],
   "source": [
    "result_string2 = \"You are %s and you look great for your age!\"%age\n",
    "print(result_string2)\n"
   ]
  },
  {
   "cell_type": "markdown",
   "metadata": {},
   "source": [
    "# In-Class Exercise 1 <br>\n",
    "<p>Create a format statement that asks for a car's color, year, make, model and prints out the results</p>"
   ]
  },
  {
   "cell_type": "code",
   "execution_count": 52,
   "metadata": {},
   "outputs": [
    {
     "name": "stdout",
     "output_type": "stream",
     "text": [
      "Which is your car color? sd\n",
      "Which year is your car made? dssd\n",
      "What make is your car? dsf\n",
      "What is the model of your car? sfsd\n",
      "You car is a sd dssd dsf sfsd\n"
     ]
    }
   ],
   "source": [
    "color = input(\"Which is your car color? \")\n",
    "year = input(\"Which year is your car made? \")\n",
    "make = input(\"What make is your car? \")\n",
    "model = input(\"What is the model of your car? \")\n",
    "\n",
    "result = \"You car is a {} {} {} {}\".format(color, year, make, model)\n",
    "print(result)"
   ]
  },
  {
   "cell_type": "code",
   "execution_count": 54,
   "metadata": {},
   "outputs": [
    {
     "name": "stdout",
     "output_type": "stream",
     "text": [
      "Which is your car color? dsd\n",
      "Which year is your car made? dds\n",
      "What make is your car? dss\n",
      "What is the model of your car? dfsdf\n",
      "You car is a dsd dds dss dfsdf\n"
     ]
    }
   ],
   "source": [
    "color = input(\"Which is your car color? \")\n",
    "year = input(\"Which year is your car made? \")\n",
    "make = input(\"What make is your car? \")\n",
    "model = input(\"What is the model of your car? \")\n",
    "\n",
    "result = f\"You car is a {color} {year} {make} {model}\"\n",
    "print(result)"
   ]
  },
  {
   "cell_type": "code",
   "execution_count": null,
   "metadata": {},
   "outputs": [],
   "source": [
    "color = input(\"Which is your car color? \")\n",
    "year = input(\"Which year is your car made? \")\n",
    "make = input(\"What make is your car? \")\n",
    "model = input(\"What is the model of your car? \")\n",
    "\n",
    "print(f\"Your car is a {color} {model} {make} is made in {year}\")"
   ]
  },
  {
   "cell_type": "markdown",
   "metadata": {},
   "source": [
    "### If Statements"
   ]
  },
  {
   "cell_type": "code",
   "execution_count": 59,
   "metadata": {},
   "outputs": [
    {
     "name": "stdout",
     "output_type": "stream",
     "text": [
      "number are not same\n",
      "10 is greter then 5\n"
     ]
    }
   ],
   "source": [
    "number1 = 10\n",
    "number2 = 5\n",
    "\n",
    "if number1 == number2:\n",
    "    print(\"number are same\")\n",
    "else:\n",
    "    print(\"number are not same\")\n",
    "    \n",
    "    \n",
    "if number1 == number2:\n",
    "    print(number1,\"is equal to\",number2)\n",
    "elif number1 <= number2:\n",
    "    print(number1,\"is less then\", number2)\n",
    "else:\n",
    "    print(number1,\"is greter then\",number2)"
   ]
  },
  {
   "cell_type": "markdown",
   "metadata": {},
   "source": [
    "##### 'is' keyword"
   ]
  },
  {
   "cell_type": "code",
   "execution_count": 61,
   "metadata": {
    "scrolled": true
   },
   "outputs": [
    {
     "name": "stdout",
     "output_type": "stream",
     "text": [
      "Not same\n"
     ]
    }
   ],
   "source": [
    "num1 = 60\n",
    "num2 = 56\n",
    "\n",
    "if num1 is num2:\n",
    "    print(\"same\")\n",
    "else:\n",
    "    print(\"Not same\")\n",
    "    "
   ]
  },
  {
   "cell_type": "code",
   "execution_count": null,
   "metadata": {},
   "outputs": [],
   "source": []
  },
  {
   "cell_type": "markdown",
   "metadata": {},
   "source": [
    "##### 'in' keyword"
   ]
  },
  {
   "cell_type": "code",
   "execution_count": 62,
   "metadata": {},
   "outputs": [
    {
     "name": "stdout",
     "output_type": "stream",
     "text": [
      "Beautiful\n"
     ]
    }
   ],
   "source": [
    "char = \"Dharti Patel\"\n",
    "if \"h\" in char:\n",
    "    print(\"Beautiful\")\n",
    "else:\n",
    "    print(\"not here\")"
   ]
  },
  {
   "cell_type": "markdown",
   "metadata": {},
   "source": [
    "##### 'not in' keyword'"
   ]
  },
  {
   "cell_type": "code",
   "execution_count": 63,
   "metadata": {},
   "outputs": [
    {
     "name": "stdout",
     "output_type": "stream",
     "text": [
      "Not saaaanic\n"
     ]
    }
   ],
   "source": [
    "sega_char = \"sonic\"\n",
    "sega_char2 = \"sanic\"\n",
    "\n",
    "if \"a\" not in sega_char:\n",
    "    print(\"Not saaaanic\")\n",
    "else:\n",
    "    print(\"Saanic\")"
   ]
  },
  {
   "cell_type": "markdown",
   "metadata": {},
   "source": [
    "# In-Class Exercise 2 <br>\n",
    "<p>Ask user for input, check to see if the letter 'p' is in the input</p>\n",
    "<p>Check for case sensitivity</p>\n"
   ]
  },
  {
   "cell_type": "code",
   "execution_count": 66,
   "metadata": {
    "scrolled": true
   },
   "outputs": [
    {
     "name": "stdout",
     "output_type": "stream",
     "text": [
      "Enter you string: jdiuhdhhfd\n",
      "String don't have p letter init\n"
     ]
    }
   ],
   "source": [
    "str = input(\"Enter you string: \")\n",
    "\n",
    "if \"p\" in str.lower() or \"p\" in str.upper():\n",
    "    print(\"Sting has p letter init\")\n",
    "else:\n",
    "    print(\"String don't have p letter init\")\n",
    "\n",
    "    "
   ]
  },
  {
   "cell_type": "code",
   "execution_count": null,
   "metadata": {},
   "outputs": [],
   "source": []
  },
  {
   "cell_type": "code",
   "execution_count": null,
   "metadata": {},
   "outputs": [],
   "source": []
  },
  {
   "cell_type": "markdown",
   "metadata": {},
   "source": [
    "## Using 'and'/'or' with If Statements"
   ]
  },
  {
   "cell_type": "code",
   "execution_count": 68,
   "metadata": {},
   "outputs": [
    {
     "name": "stdout",
     "output_type": "stream",
     "text": [
      "false\n",
      "true\n"
     ]
    }
   ],
   "source": [
    "n1 = 15\n",
    "n2 =3\n",
    "n3 =10\n",
    "n4 = 4\n",
    "\n",
    "if n1 / 5 == n2 and n3 - 7 == n4:\n",
    "    print(\"true\")\n",
    "else:\n",
    "    print(\"false\")\n",
    "    \n",
    "\n",
    "if n1 / 5 == n2 or n3 - 7 == n4:\n",
    "    print(\"true\")\n",
    "else:\n",
    "    print(\"false\")"
   ]
  },
  {
   "cell_type": "markdown",
   "metadata": {},
   "source": [
    "### Elif Statements"
   ]
  },
  {
   "cell_type": "code",
   "execution_count": 71,
   "metadata": {},
   "outputs": [
    {
     "name": "stdout",
     "output_type": "stream",
     "text": [
      "Number is smaller then nine\n"
     ]
    }
   ],
   "source": [
    "num = 1\n",
    "\n",
    "if num == 9:\n",
    "    print(\"Nine\")\n",
    "elif num > 9:\n",
    "    print(\"number if bigger then nine\")\n",
    "else:\n",
    "    print(\"Number is smaller then nine\")"
   ]
  },
  {
   "cell_type": "markdown",
   "metadata": {},
   "source": [
    "### Else Statements"
   ]
  },
  {
   "cell_type": "code",
   "execution_count": 72,
   "metadata": {},
   "outputs": [
    {
     "name": "stdout",
     "output_type": "stream",
     "text": [
      "12 is not 20\n"
     ]
    }
   ],
   "source": [
    "num = 12\n",
    "\n",
    "if num == 20:\n",
    "    print(num)\n",
    "else:\n",
    "    print(num,\"is not 20\")"
   ]
  },
  {
   "cell_type": "markdown",
   "metadata": {},
   "source": [
    "### String Manipulation"
   ]
  },
  {
   "cell_type": "markdown",
   "metadata": {},
   "source": [
    "#### .lstrip()"
   ]
  },
  {
   "cell_type": "code",
   "execution_count": 73,
   "metadata": {},
   "outputs": [
    {
     "name": "stdout",
     "output_type": "stream",
     "text": [
      " dharti patel\n",
      "dharti patel\n"
     ]
    }
   ],
   "source": [
    "name = \" dharti patel\"\n",
    "print(name)\n",
    "\n",
    "print(name.lstrip())"
   ]
  },
  {
   "cell_type": "markdown",
   "metadata": {},
   "source": [
    "#### .rstrip()"
   ]
  },
  {
   "cell_type": "code",
   "execution_count": 74,
   "metadata": {},
   "outputs": [
    {
     "name": "stdout",
     "output_type": "stream",
     "text": [
      "dharti patel         \n",
      "dharti patel\n"
     ]
    }
   ],
   "source": [
    "name = \"dharti patel         \"\n",
    "print(name)\n",
    "\n",
    "print(name.rstrip())"
   ]
  },
  {
   "cell_type": "markdown",
   "metadata": {},
   "source": [
    "#### .strip()"
   ]
  },
  {
   "cell_type": "code",
   "execution_count": 75,
   "metadata": {},
   "outputs": [
    {
     "name": "stdout",
     "output_type": "stream",
     "text": [
      "   dharti  patel  \n",
      "dharti  patel\n"
     ]
    }
   ],
   "source": [
    "name = \"   dharti  patel  \"\n",
    "print(name)\n",
    "\n",
    "print(name.strip())"
   ]
  },
  {
   "cell_type": "markdown",
   "metadata": {},
   "source": [
    "#### .title()"
   ]
  },
  {
   "cell_type": "code",
   "execution_count": 76,
   "metadata": {},
   "outputs": [
    {
     "name": "stdout",
     "output_type": "stream",
     "text": [
      "dharti patel\n",
      "Dharti Patel\n"
     ]
    }
   ],
   "source": [
    "name = \"dharti patel\"\n",
    "print(name)\n",
    "\n",
    "print(name.title())"
   ]
  },
  {
   "cell_type": "markdown",
   "metadata": {},
   "source": [
    "#### .upper()"
   ]
  },
  {
   "cell_type": "code",
   "execution_count": 77,
   "metadata": {},
   "outputs": [
    {
     "name": "stdout",
     "output_type": "stream",
     "text": [
      "dharti patel\n",
      "DHARTI PATEL\n"
     ]
    }
   ],
   "source": [
    "name = \"dharti patel\"\n",
    "print(name)\n",
    "\n",
    "print(name.upper())"
   ]
  },
  {
   "cell_type": "markdown",
   "metadata": {},
   "source": [
    "#### .lower()"
   ]
  },
  {
   "cell_type": "code",
   "execution_count": 78,
   "metadata": {
    "scrolled": true
   },
   "outputs": [
    {
     "name": "stdout",
     "output_type": "stream",
     "text": [
      "dhaRti Patel\n",
      "dharti patel\n"
     ]
    }
   ],
   "source": [
    "name = \"dhaRti Patel\"\n",
    "print(name)\n",
    "\n",
    "print(name.lower())"
   ]
  },
  {
   "cell_type": "markdown",
   "metadata": {},
   "source": [
    "### String Exercise"
   ]
  },
  {
   "cell_type": "markdown",
   "metadata": {},
   "source": [
    "Have a user input a name. Return the name with all white space removed and each first letter capitalized."
   ]
  },
  {
   "cell_type": "code",
   "execution_count": 79,
   "metadata": {},
   "outputs": [
    {
     "name": "stdout",
     "output_type": "stream",
     "text": [
      "Enter your name:       dharti  patel    \n",
      "your name is Dharti  Patel\n"
     ]
    }
   ],
   "source": [
    "name = input(\"Enter your name:\")\n",
    "name1 = name.strip()\n",
    "\n",
    "print(\"your name is\",name1.title())"
   ]
  },
  {
   "cell_type": "markdown",
   "metadata": {},
   "source": [
    "### Built-In Functions"
   ]
  },
  {
   "cell_type": "markdown",
   "metadata": {},
   "source": [
    "##### len()"
   ]
  },
  {
   "cell_type": "code",
   "execution_count": 80,
   "metadata": {},
   "outputs": [
    {
     "name": "stdout",
     "output_type": "stream",
     "text": [
      "Enter your name: dharti patel\n",
      "Your name has  12 letters.\n"
     ]
    }
   ],
   "source": [
    "name = input(\"Enter your name: \")\n",
    "\n",
    "print(\"Your name has \",len(name),\"letters.\")"
   ]
  },
  {
   "cell_type": "markdown",
   "metadata": {},
   "source": [
    "##### help()"
   ]
  },
  {
   "cell_type": "code",
   "execution_count": 82,
   "metadata": {},
   "outputs": [
    {
     "name": "stdout",
     "output_type": "stream",
     "text": [
      "Help on built-in function isinstance in module builtins:\n",
      "\n",
      "isinstance(obj, class_or_tuple, /)\n",
      "    Return whether an object is an instance of a class or of a subclass thereof.\n",
      "    \n",
      "    A tuple, as in ``isinstance(x, (A, B, ...))``, may be given as the target to\n",
      "    check against. This is equivalent to ``isinstance(x, A) or isinstance(x, B)\n",
      "    or ...`` etc.\n",
      "\n",
      "Help on built-in function abs in module builtins:\n",
      "\n",
      "abs(x, /)\n",
      "    Return the absolute value of the argument.\n",
      "\n"
     ]
    }
   ],
   "source": [
    "help(isinstance)\n",
    "help(abs)"
   ]
  },
  {
   "cell_type": "markdown",
   "metadata": {},
   "source": [
    "##### isinstance()"
   ]
  },
  {
   "cell_type": "code",
   "execution_count": 90,
   "metadata": {},
   "outputs": [
    {
     "name": "stdout",
     "output_type": "stream",
     "text": [
      "False\n"
     ]
    },
    {
     "ename": "TypeError",
     "evalue": "isinstance() arg 2 must be a type or tuple of types",
     "output_type": "error",
     "traceback": [
      "\u001b[1;31m---------------------------------------------------------------------------\u001b[0m",
      "\u001b[1;31mTypeError\u001b[0m                                 Traceback (most recent call last)",
      "Cell \u001b[1;32mIn[90], line 4\u001b[0m\n\u001b[0;32m      1\u001b[0m name \u001b[38;5;241m=\u001b[39m \u001b[38;5;124m\"\u001b[39m\u001b[38;5;124mDharti\u001b[39m\u001b[38;5;124m\"\u001b[39m\n\u001b[0;32m      3\u001b[0m \u001b[38;5;28mprint\u001b[39m(\u001b[38;5;28misinstance\u001b[39m(name,\u001b[38;5;28mint\u001b[39m))\n\u001b[1;32m----> 4\u001b[0m \u001b[38;5;28mprint\u001b[39m(\u001b[38;5;28;43misinstance\u001b[39;49m\u001b[43m(\u001b[49m\u001b[43mname\u001b[49m\u001b[43m,\u001b[49m\u001b[38;5;28;43mstr\u001b[39;49m\u001b[43m)\u001b[49m)\n\u001b[0;32m      6\u001b[0m \u001b[38;5;28;01mif\u001b[39;00m \u001b[38;5;28misinstance\u001b[39m(name,\u001b[38;5;28mint\u001b[39m):\n\u001b[0;32m      7\u001b[0m     \u001b[38;5;28mprint\u001b[39m(\u001b[38;5;124m\"\u001b[39m\u001b[38;5;124mIts float\u001b[39m\u001b[38;5;124m\"\u001b[39m)\n",
      "\u001b[1;31mTypeError\u001b[0m: isinstance() arg 2 must be a type or tuple of types"
     ]
    }
   ],
   "source": [
    "name = \"Dharti\"\n",
    "\n",
    "print(isinstance(name,int))\n",
    "print(isinstance(name,str))\n",
    "\n",
    "if isinstance(name,int):\n",
    "    print(\"Its float\")\n",
    "elif isinstance(name,int):\n",
    "    print(\"Its integer\")\n",
    "else:\n",
    "    print(\"String\")"
   ]
  },
  {
   "cell_type": "markdown",
   "metadata": {},
   "source": [
    "##### abs()"
   ]
  },
  {
   "cell_type": "code",
   "execution_count": 89,
   "metadata": {},
   "outputs": [
    {
     "name": "stdout",
     "output_type": "stream",
     "text": [
      "7\n",
      "15\n",
      "5\n"
     ]
    }
   ],
   "source": [
    "print(abs(-7))\n",
    "print(abs(15))\n",
    "print(abs(10-5))"
   ]
  },
  {
   "cell_type": "markdown",
   "metadata": {},
   "source": [
    "### Try and Except"
   ]
  },
  {
   "cell_type": "code",
   "execution_count": 93,
   "metadata": {},
   "outputs": [
    {
     "name": "stdout",
     "output_type": "stream",
     "text": [
      "how old are you:32\n",
      "HAppy Birthday you were 32 and you are 33\n"
     ]
    }
   ],
   "source": [
    "try:\n",
    "    age = int(input(\"how old are you:\"))\n",
    "    print(f\"HAppy Birthday you were {age} and you are {age + 1}\")\n",
    "except:\n",
    "        print(\"Please enter the number, not text\")"
   ]
  },
  {
   "cell_type": "code",
   "execution_count": null,
   "metadata": {},
   "outputs": [],
   "source": []
  },
  {
   "cell_type": "markdown",
   "metadata": {},
   "source": [
    "## Exercise #1 <br>\n",
    "<p>Accept two user ages as inputs and give us the difference between them. (The Answer should always be a positive output)</p>"
   ]
  },
  {
   "cell_type": "code",
   "execution_count": 96,
   "metadata": {},
   "outputs": [
    {
     "name": "stdout",
     "output_type": "stream",
     "text": [
      "Enter the age of first person:20\n",
      "Enter the age of secong person12\n",
      "The difference between both person is 8\n"
     ]
    }
   ],
   "source": [
    "age1 = int(input(\"Enter the age of first person:\"))\n",
    "age2 = int(input(\"Enter the age of secong person\"))\n",
    "\n",
    "diffe = abs(age1-age2)\n",
    "\n",
    "print(\"The difference between both person is\",diffe)\n",
    "\n",
    "        \n",
    "        \n"
   ]
  },
  {
   "cell_type": "markdown",
   "metadata": {},
   "source": [
    "## Exercise #2 \n",
    "<p>Accept 3 user inputs for variables named noun, verb and adjective. Print out a formatted string using the outputs.</p>"
   ]
  },
  {
   "cell_type": "code",
   "execution_count": 98,
   "metadata": {},
   "outputs": [
    {
     "name": "stdout",
     "output_type": "stream",
     "text": [
      "Enter any noun string:dharti\n",
      "Enter any verb string:patel\n",
      "Enter any adjective string:software\n",
      "The formatted string is: dharti patel software\n"
     ]
    }
   ],
   "source": [
    "noun = input(\"Enter any noun string:\")\n",
    "verb = input(\"Enter any verb string:\")\n",
    "adjective = input(\"Enter any adjective string:\")\n",
    "\n",
    "print(f\"The formatted string is: {noun} {verb} {adjective}\")"
   ]
  },
  {
   "cell_type": "markdown",
   "metadata": {},
   "source": [
    "## Exercise #3 <br>\n",
    "<p>Take in a users input for their age, if they are younger than 18 print kids, if they're 18 to 65 print adults, else print seniors</p>"
   ]
  },
  {
   "cell_type": "code",
   "execution_count": 102,
   "metadata": {},
   "outputs": [
    {
     "name": "stdout",
     "output_type": "stream",
     "text": [
      "Enter the age:69\n",
      "You are seniors\n"
     ]
    }
   ],
   "source": [
    "age = int(input(\"Enter the age:\"))\n",
    "\n",
    "if age < 18:\n",
    "    print(\"You are a kids\")\n",
    "elif age >= 18 and age <= 65:\n",
    "    print(\"You are adult\")\n",
    "else:\n",
    "    print(\"You are seniors\")\n",
    "    "
   ]
  },
  {
   "cell_type": "markdown",
   "metadata": {},
   "source": [
    "## Exercise #4\n",
    "<p>Take in a number from a user input output the number squared.</p>"
   ]
  },
  {
   "cell_type": "code",
   "execution_count": 104,
   "metadata": {},
   "outputs": [
    {
     "name": "stdout",
     "output_type": "stream",
     "text": [
      "Enter the number:3\n",
      "Square of your number is 9\n"
     ]
    }
   ],
   "source": [
    "num = int(input(\"Enter the number:\"))\n",
    "\n",
    "print(\"Square of your number is\",num**2)\n"
   ]
  },
  {
   "cell_type": "markdown",
   "metadata": {},
   "source": [
    "## Exercise #5\n",
    "<p>Check the below variables' length. If the length of the word is greater than 5 output True, if it is less than 5, output False<p>\n"
   ]
  },
  {
   "cell_type": "code",
   "execution_count": 105,
   "metadata": {},
   "outputs": [
    {
     "name": "stdout",
     "output_type": "stream",
     "text": [
      "True\n",
      "True\n",
      "False\n",
      "True\n",
      "False\n"
     ]
    }
   ],
   "source": [
    "word1 = \"panini\"\n",
    "word2 = \"bulbasaur\"\n",
    "word3 = \"pie\"\n",
    "word4 = \"dolphin\"\n",
    "word5 = \"dog\"\n",
    "\n",
    "if len(word1) <=5:\n",
    "    print(\"False\")\n",
    "else:\n",
    "    print(\"True\")\n",
    "\n",
    "if len(word2) <=5:\n",
    "    print(\"False\")\n",
    "else:\n",
    "    print(\"True\")\n",
    "\n",
    "if len(word3) <=5:\n",
    "    print(\"False\")\n",
    "else:\n",
    "    print(\"True\")\n",
    "\n",
    "if len(word4) <=5:\n",
    "    print(\"False\")\n",
    "else:\n",
    "    print(\"True\")\n",
    "\n",
    "if len(word5) <=5:\n",
    "    print(\"False\")\n",
    "else:\n",
    "    print(\"True\")\n"
   ]
  }
 ],
 "metadata": {
  "kernelspec": {
   "display_name": "Python 3 (ipykernel)",
   "language": "python",
   "name": "python3"
  },
  "language_info": {
   "codemirror_mode": {
    "name": "ipython",
    "version": 3
   },
   "file_extension": ".py",
   "mimetype": "text/x-python",
   "name": "python",
   "nbconvert_exporter": "python",
   "pygments_lexer": "ipython3",
   "version": "3.9.7"
  }
 },
 "nbformat": 4,
 "nbformat_minor": 2
}
